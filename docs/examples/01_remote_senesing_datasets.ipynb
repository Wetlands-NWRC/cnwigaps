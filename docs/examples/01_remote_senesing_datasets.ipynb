{
 "cells": [
  {
   "cell_type": "code",
   "execution_count": 1,
   "metadata": {},
   "outputs": [],
   "source": [
    "import ee\n",
    "\n",
    "ee.Initialize()"
   ]
  },
  {
   "cell_type": "code",
   "execution_count": 2,
   "metadata": {},
   "outputs": [],
   "source": [
    "test_aoi = ee.FeatureCollection(\"projects/cnwi-er-124/assets/data/regions_124\").geometry()"
   ]
  },
  {
   "cell_type": "code",
   "execution_count": 3,
   "metadata": {},
   "outputs": [],
   "source": [
    "from cnwigaps.randomforest import *"
   ]
  },
  {
   "cell_type": "code",
   "execution_count": 4,
   "metadata": {},
   "outputs": [
    {
     "name": "stdout",
     "output_type": "stream",
     "text": [
      "DateRanges(s1=[('2019-03-01', '2019-10-01')], s2=[('2018-03-01', '2018-10-01'), ('2019-03-01', '2019-10-01'), ('2020-03-01', '2020-10-01')], alos=[('2018', '2021')])\n"
     ]
    }
   ],
   "source": [
    "date_ranges = DateRanges()\n",
    "print(date_ranges)"
   ]
  },
  {
   "cell_type": "code",
   "execution_count": 5,
   "metadata": {},
   "outputs": [
    {
     "name": "stdout",
     "output_type": "stream",
     "text": [
      "S1(dataset=<ee.imagecollection.ImageCollection object at 0x7fdacc205950>, bands=['VV', 'VH'])\n",
      "{'type': 'Image', 'bands': [{'id': 'VV', 'data_type': {'type': 'PixelType', 'precision': 'double'}, 'dimensions': [29108, 24026], 'crs': 'EPSG:32620', 'crs_transform': [10, 0, 295032.67076620355, 0, -10, 5128983.259743984]}, {'id': 'VH', 'data_type': {'type': 'PixelType', 'precision': 'double'}, 'dimensions': [29108, 24026], 'crs': 'EPSG:32620', 'crs_transform': [10, 0, 295032.67076620355, 0, -10, 5128983.259743984]}], 'version': 1707085480515661, 'id': 'COPERNICUS/S1_GRD/S1B_IW_GRDH_1SDV_20190307T102245_20190307T102314_015247_01C874_9268', 'properties': {'SNAP_Graph_Processing_Framework_GPF_vers': '6.0.4', 'SLC_Processing_facility_org': 'ESA', 'SLC_Processing_facility_country': 'United Kingdom', 'GRD_Post_Processing_facility_org': 'ESA', 'transmitterReceiverPolarisation': ['VV', 'VH'], 'GRD_Post_Processing_start': 1551962915480, 'sliceNumber': 1, 'GRD_Post_Processing_facility_name': 'Copernicus S1 Core Ground Segment - UPA', 'resolution': 'H', 'SLC_Processing_facility_name': 'Copernicus S1 Core Ground Segment - UPA', 'system:footprint': {'type': 'LinearRing', 'coordinates': [[-65.54047644587877, 44.58279164952723], [-65.54579906072479, 44.55755543428208], [-65.54836010369264, 44.54396567396542], [-64.52312941184084, 44.425782033671275], [-63.59292818315159, 44.31015945756743], [-62.43714171217872, 44.15527614656215], [-62.4353105230385, 44.155267146603514], [-62.42954725709799, 44.176257720255194], [-62.3980933890439, 44.29101890747497], [-62.37223817240626, 44.38515036052245], [-62.351323827458465, 44.461176750761744], [-62.323686677561184, 44.56141198095625], [-62.14222567650797, 45.2275930767805], [-61.95598829647986, 45.89469918319848], [-61.99470150960951, 45.89997324588498], [-63.045679269002825, 46.03744644171569], [-64.18488577408887, 46.10992318771784], [-65.19298754627584, 46.16285833652477], [-65.30741775106097, 45.66363033165364], [-65.42494332558367, 45.12327055049201], [-65.54047644587877, 44.58279164952723]]}, 'familyName': 'SENTINEL-1', 'segmentStartTime': 1551954165740, 'missionDataTakeID': 116852, 'GRD_Post_Processing_facility_country': 'United Kingdom', 'nssdcIdentifier': '2016-025A', 'productClass': 'S', 'phaseIdentifier': 1, 'orbitProperties_pass': 'DESCENDING', 'relativeOrbitNumber_stop': 171, 'system:time_end': 1551954165000, 'SLC_Processing_facility_site': 'Airbus DS-Newport', 'GRD_Post_Processing_stop': 1551963560000, 'system:time_start': 1551954165000, 'instrumentMode': 'IW', 'totalSlices': 7, 'SLC_Processing_stop': 1551963321000, 'startTimeANX': 2208516, 'SLC_Processing_start': 1551963011000, 'resolution_meters': 10, 'instrumentSwath': 'IW', 'relativeOrbitNumber_start': 171, 'productTimelinessCategory': 'Fast-24h', 'SLC_Processing_software_name': 'Sentinel-1 IPF', 'sliceProductFlag': 'true', 'S1TBX_Calibration_vers': '6.0.4', 'orbitNumber_start': 15247, 'GRD_Post_Processing_facility_site': 'Airbus DS-Newport', 'instrument': 'Synthetic Aperture Radar', 'GRD_Post_Processing_software_name': 'Sentinel-1 IPF', 'platform_number': 'B', 'S1TBX_SAR_Processing_vers': '6.0.4', 'productType': 'GRD', 'orbitProperties_ascendingNodeTime': 1551951956900, 'stopTimeANX': 2237547, 'productComposition': 'Slice', 'productClassDescription': 'SAR Standard L1 Product', 'GRD_Post_Processing_software_version': '002.91', 'SLC_Processing_software_version': '002.91', 'orbitNumber_stop': 15247, 'instrumentConfigurationID': 1, 'system:asset_size': 4531680681, 'cycleNumber': 93, 'system:index': 'S1B_IW_GRDH_1SDV_20190307T102245_20190307T102314_015247_01C874_9268'}}\n"
     ]
    }
   ],
   "source": [
    "s1 = S1()\n",
    "print(s1)\n",
    "\n",
    "s1_preprocessed = s1_preprocessing_pipeline(s1, test_aoi, date_ranges.s1[0][0], date_ranges.s1[0][1])\n",
    "print(s1_preprocessed.dataset.first().getInfo())"
   ]
  },
  {
   "cell_type": "code",
   "execution_count": 5,
   "metadata": {},
   "outputs": [
    {
     "data": {
      "text/plain": [
       "['VV', 'VH', 'VV_VH']"
      ]
     },
     "execution_count": 5,
     "metadata": {},
     "output_type": "execute_result"
    }
   ],
   "source": [
    "from cnwigaps.rsdproc import S1Proc\n",
    "\n",
    "s1_proc = S1Proc(\n",
    "    region=ROI,\n",
    "    start_date='2019-06-01',\n",
    "    end_date='2019-09-01',\n",
    ").process()\n",
    "\n",
    "s1_proc.rsd.first().bandNames().getInfo()"
   ]
  },
  {
   "cell_type": "code",
   "execution_count": 6,
   "metadata": {},
   "outputs": [
    {
     "data": {
      "text/plain": [
       "['HH', 'HV', 'HH_HV']"
      ]
     },
     "execution_count": 6,
     "metadata": {},
     "output_type": "execute_result"
    }
   ],
   "source": [
    "from cnwigaps.rsdproc import ALOSProc\n",
    "\n",
    "al_proc = ALOSProc(\n",
    "    region=ROI,\n",
    "    start_date='2019',\n",
    "    end_date='2020',\n",
    ").process()\n",
    "\n",
    "al_proc.rsd.first().bandNames().getInfo()"
   ]
  },
  {
   "cell_type": "code",
   "execution_count": 7,
   "metadata": {},
   "outputs": [
    {
     "data": {
      "text/plain": [
       "['elevation', 'slope']"
      ]
     },
     "execution_count": 7,
     "metadata": {},
     "output_type": "execute_result"
    }
   ],
   "source": [
    "from cnwigaps.rsdproc import DEMProc\n",
    "\n",
    "dem_proc = DEMProc().process()\n",
    "dem_proc.bandNames().getInfo()"
   ]
  },
  {
   "cell_type": "code",
   "execution_count": 8,
   "metadata": {},
   "outputs": [
    {
     "data": {
      "text/plain": [
       "['VV', 'VH', 'VV_VH']"
      ]
     },
     "execution_count": 8,
     "metadata": {},
     "output_type": "execute_result"
    }
   ],
   "source": [
    "from cnwigaps.rsdproc import ProcessingFactory\n",
    "\n",
    "proc_fact = ProcessingFactory()\n",
    "s1 = proc_fact.process_datasets(level=1, region=ROI)\n",
    "s1.bandNames().getInfo()"
   ]
  },
  {
   "cell_type": "code",
   "execution_count": 9,
   "metadata": {},
   "outputs": [
    {
     "data": {
      "text/plain": [
       "['B2',\n",
       " 'B3',\n",
       " 'B4',\n",
       " 'B5',\n",
       " 'B6',\n",
       " 'B8',\n",
       " 'B8A',\n",
       " 'B11',\n",
       " 'B12',\n",
       " 'NDVI',\n",
       " 'SAVI',\n",
       " 'brightness',\n",
       " 'greenness',\n",
       " 'wetness']"
      ]
     },
     "execution_count": 9,
     "metadata": {},
     "output_type": "execute_result"
    }
   ],
   "source": [
    "s2 = proc_fact.process_datasets(level=2, region=ROI)\n",
    "s2.bandNames().getInfo()"
   ]
  },
  {
   "cell_type": "code",
   "execution_count": 10,
   "metadata": {},
   "outputs": [
    {
     "data": {
      "text/plain": [
       "['HH', 'HV', 'HH_HV']"
      ]
     },
     "execution_count": 10,
     "metadata": {},
     "output_type": "execute_result"
    }
   ],
   "source": [
    "alos = proc_fact.process_datasets(level=3, region=ROI)\n",
    "alos.bandNames().getInfo()"
   ]
  },
  {
   "cell_type": "code",
   "execution_count": null,
   "metadata": {},
   "outputs": [],
   "source": []
  }
 ],
 "metadata": {
  "kernelspec": {
   "display_name": "venv",
   "language": "python",
   "name": "python3"
  },
  "language_info": {
   "codemirror_mode": {
    "name": "ipython",
    "version": 3
   },
   "file_extension": ".py",
   "mimetype": "text/x-python",
   "name": "python",
   "nbconvert_exporter": "python",
   "pygments_lexer": "ipython3",
   "version": "3.11.4"
  }
 },
 "nbformat": 4,
 "nbformat_minor": 2
}
