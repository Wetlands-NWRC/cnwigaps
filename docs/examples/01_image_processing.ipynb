{
 "cells": [
  {
   "cell_type": "code",
   "execution_count": 1,
   "metadata": {},
   "outputs": [],
   "source": [
    "import ee\n",
    "\n",
    "ee.Initialize()"
   ]
  },
  {
   "cell_type": "code",
   "execution_count": 2,
   "metadata": {},
   "outputs": [],
   "source": [
    "ROI = ee.Geometry.Point([-77.2214, 44.0434])"
   ]
  },
  {
   "cell_type": "code",
   "execution_count": 3,
   "metadata": {},
   "outputs": [
    {
     "data": {
      "text/plain": [
       "['B1',\n",
       " 'B2',\n",
       " 'B3',\n",
       " 'B4',\n",
       " 'B5',\n",
       " 'B6',\n",
       " 'B7',\n",
       " 'B8',\n",
       " 'B8A',\n",
       " 'B9',\n",
       " 'B10',\n",
       " 'B11',\n",
       " 'B12',\n",
       " 'QA10',\n",
       " 'QA20',\n",
       " 'QA60',\n",
       " 'NDVI',\n",
       " 'SAVI',\n",
       " 'brightness',\n",
       " 'greenness',\n",
       " 'wetness']"
      ]
     },
     "execution_count": 3,
     "metadata": {},
     "output_type": "execute_result"
    }
   ],
   "source": [
    "from cnwigaps.rsdproc import RSDProcessor\n",
    "\n",
    "s2 = RSDProcessor(\n",
    "    dataset=\"COPERNICUS/S2_HARMONIZED\",\n",
    "    region=ROI,\n",
    "    start_date='2019-06-01',\n",
    "    end_date='2019-09-01',\n",
    ").process()\n",
    "\n",
    "s2.compute_ndvi('B8', 'B4')\n",
    "s2.compute_savi('B8', 'B4')\n",
    "s2.compute_tasseled_cap('B2', 'B3', 'B4', 'B8', 'B11', 'B12')\n",
    "s2.rsd.first().bandNames().getInfo()\n",
    "\n",
    "\n"
   ]
  },
  {
   "cell_type": "code",
   "execution_count": 4,
   "metadata": {},
   "outputs": [
    {
     "data": {
      "text/plain": [
       "['B2',\n",
       " 'B3',\n",
       " 'B4',\n",
       " 'B5',\n",
       " 'B6',\n",
       " 'B8',\n",
       " 'B8A',\n",
       " 'B11',\n",
       " 'B12',\n",
       " 'NDVI',\n",
       " 'SAVI',\n",
       " 'brightness',\n",
       " 'greenness',\n",
       " 'wetness']"
      ]
     },
     "execution_count": 4,
     "metadata": {},
     "output_type": "execute_result"
    }
   ],
   "source": [
    "from cnwigaps.rsdproc import S2Proc\n",
    "\n",
    "s2_proc = S2Proc(\n",
    "    region=ROI,\n",
    "    start_date='2019-06-01',\n",
    "    end_date='2019-09-01',\n",
    ").process()\n",
    "\n",
    "s2_proc.rsd.first().bandNames().getInfo()"
   ]
  },
  {
   "cell_type": "code",
   "execution_count": 5,
   "metadata": {},
   "outputs": [
    {
     "data": {
      "text/plain": [
       "['VV', 'VH', 'VV_VH']"
      ]
     },
     "execution_count": 5,
     "metadata": {},
     "output_type": "execute_result"
    }
   ],
   "source": [
    "from cnwigaps.rsdproc import S1Proc\n",
    "\n",
    "s1_proc = S1Proc(\n",
    "    region=ROI,\n",
    "    start_date='2019-06-01',\n",
    "    end_date='2019-09-01',\n",
    ").process()\n",
    "\n",
    "s1_proc.rsd.first().bandNames().getInfo()"
   ]
  },
  {
   "cell_type": "code",
   "execution_count": 6,
   "metadata": {},
   "outputs": [
    {
     "data": {
      "text/plain": [
       "['HH', 'HV', 'HH_HV']"
      ]
     },
     "execution_count": 6,
     "metadata": {},
     "output_type": "execute_result"
    }
   ],
   "source": [
    "from cnwigaps.rsdproc import ALOSProc\n",
    "\n",
    "al_proc = ALOSProc(\n",
    "    region=ROI,\n",
    "    start_date='2019',\n",
    "    end_date='2020',\n",
    ").process()\n",
    "\n",
    "al_proc.rsd.first().bandNames().getInfo()"
   ]
  },
  {
   "cell_type": "code",
   "execution_count": 7,
   "metadata": {},
   "outputs": [
    {
     "data": {
      "text/plain": [
       "['elevation', 'slope']"
      ]
     },
     "execution_count": 7,
     "metadata": {},
     "output_type": "execute_result"
    }
   ],
   "source": [
    "from cnwigaps.rsdproc import DEMProc\n",
    "\n",
    "dem_proc = DEMProc().process()\n",
    "dem_proc.bandNames().getInfo()"
   ]
  },
  {
   "cell_type": "code",
   "execution_count": 4,
   "metadata": {},
   "outputs": [],
   "source": [
    "import geemap"
   ]
  },
  {
   "cell_type": "code",
   "execution_count": 5,
   "metadata": {},
   "outputs": [
    {
     "data": {
      "text/html": [
       "\n",
       "            <style>\n",
       "                .geemap-dark {\n",
       "                    --jp-widgets-color: white;\n",
       "                    --jp-widgets-label-color: white;\n",
       "                    --jp-ui-font-color1: white;\n",
       "                    --jp-layout-color2: #454545;\n",
       "                    background-color: #383838;\n",
       "                }\n",
       "                    \n",
       "                .geemap-dark .jupyter-button {\n",
       "                    --jp-layout-color3: #383838;\n",
       "                }\n",
       "                \n",
       "                .geemap-colab {\n",
       "                    background-color: var(--colab-primary-surface-color, white);\n",
       "                }\n",
       "                    \n",
       "                .geemap-colab .jupyter-button {\n",
       "                    --jp-layout-color3: var(--colab-primary-surface-color, white);\n",
       "                }\n",
       "            </style>\n",
       "            "
      ],
      "text/plain": [
       "<IPython.core.display.HTML object>"
      ]
     },
     "metadata": {},
     "output_type": "display_data"
    },
    {
     "data": {
      "application/vnd.jupyter.widget-view+json": {
       "model_id": "74c9c7f9ace84c48a03ed52283300c48",
       "version_major": 2,
       "version_minor": 0
      },
      "text/plain": [
       "Map(center=[44.04339999999999, -77.2214], controls=(WidgetControl(options=['position', 'transparent_bg'], widg…"
      ]
     },
     "execution_count": 5,
     "metadata": {},
     "output_type": "execute_result"
    }
   ],
   "source": [
    "Map = geemap.Map()\n",
    "\n",
    "Map.addLayer(s2.rsd, {\"bands\": ['B4', \"B3\", \"B2\"], 'min': 0, 'max': 3000}, \"S2 2017\")\n",
    "Map.centerObject(ROI, 10)\n",
    "\n",
    "# Map.addLayerControl(\n",
    "    \n",
    "Map"
   ]
  },
  {
   "cell_type": "code",
   "execution_count": 10,
   "metadata": {},
   "outputs": [
    {
     "data": {
      "text/html": [
       "\n",
       "            <style>\n",
       "                .geemap-dark {\n",
       "                    --jp-widgets-color: white;\n",
       "                    --jp-widgets-label-color: white;\n",
       "                    --jp-ui-font-color1: white;\n",
       "                    --jp-layout-color2: #454545;\n",
       "                    background-color: #383838;\n",
       "                }\n",
       "                    \n",
       "                .geemap-dark .jupyter-button {\n",
       "                    --jp-layout-color3: #383838;\n",
       "                }\n",
       "                \n",
       "                .geemap-colab {\n",
       "                    background-color: var(--colab-primary-surface-color, white);\n",
       "                }\n",
       "                    \n",
       "                .geemap-colab .jupyter-button {\n",
       "                    --jp-layout-color3: var(--colab-primary-surface-color, white);\n",
       "                }\n",
       "            </style>\n",
       "            "
      ],
      "text/plain": [
       "<IPython.core.display.HTML object>"
      ]
     },
     "metadata": {},
     "output_type": "display_data"
    }
   ],
   "source": [
    "from cnwigaps.rsdproc import batch_process_rsd\n",
    "\n",
    "s2 = batch_process_rsd(\n",
    "    rsd_type=1,\n",
    "    years=[2017, 2018, 2019],\n",
    "    region=ROI,\n",
    "    start_mm_dd='06-01',\n",
    "    end_mm_dd='09-01',\n",
    ")\n",
    "\n",
    "\n",
    "s1 = batch_process_rsd(\n",
    "    rsd_type=0,\n",
    "    years=[2017, 2018, 2019],\n",
    "    region=ROI,\n",
    "    start_mm_dd='06-01',\n",
    "    end_mm_dd='09-01',\n",
    ")\n",
    "\n",
    "alos = batch_process_rsd(\n",
    "    rsd_type=2,\n",
    "    years=[2017, 2018, 2019, 2020],\n",
    "    region=ROI,\n",
    "    start_mm_dd='01-01',\n",
    "    end_mm_dd='12-31',\n",
    ")\n"
   ]
  },
  {
   "cell_type": "code",
   "execution_count": 11,
   "metadata": {},
   "outputs": [
    {
     "data": {
      "text/html": [
       "\n",
       "            <style>\n",
       "                .geemap-dark {\n",
       "                    --jp-widgets-color: white;\n",
       "                    --jp-widgets-label-color: white;\n",
       "                    --jp-ui-font-color1: white;\n",
       "                    --jp-layout-color2: #454545;\n",
       "                    background-color: #383838;\n",
       "                }\n",
       "                    \n",
       "                .geemap-dark .jupyter-button {\n",
       "                    --jp-layout-color3: #383838;\n",
       "                }\n",
       "                \n",
       "                .geemap-colab {\n",
       "                    background-color: var(--colab-primary-surface-color, white);\n",
       "                }\n",
       "                    \n",
       "                .geemap-colab .jupyter-button {\n",
       "                    --jp-layout-color3: var(--colab-primary-surface-color, white);\n",
       "                }\n",
       "            </style>\n",
       "            "
      ],
      "text/plain": [
       "<IPython.core.display.HTML object>"
      ]
     },
     "metadata": {},
     "output_type": "display_data"
    },
    {
     "data": {
      "application/vnd.jupyter.widget-view+json": {
       "model_id": "13447262bbb84be49253fc2f2ca22ddb",
       "version_major": 2,
       "version_minor": 0
      },
      "text/plain": [
       "Map(center=[44.04339999999999, -77.2214], controls=(WidgetControl(options=['position', 'transparent_bg'], widg…"
      ]
     },
     "execution_count": 11,
     "metadata": {},
     "output_type": "execute_result"
    }
   ],
   "source": [
    "Map = geemap.Map()\n",
    "Map.addLayer(alos.rsd.median(), {\"bands\": ['HH', \"HV\"], 'min': 0.0, 'max': 1000.0}, \"ALOS 2017-2019\")\n",
    "Map.addLayer(s1.rsd.median(), {\"bands\": ['VV', \"VH\"], 'min': -25, 'max': 0}, \"S1 2017-2019\")\n",
    "Map.addLayer(s2.rsd.median(), {\"bands\": ['B4', \"B3\", \"B2\"], 'min': 0, 'max': 3000}, \"S2 2017-2019\")\n",
    "Map.centerObject(ROI, 10)\n",
    "\n",
    "Map.addLayerControl()\n",
    "\n",
    "Map"
   ]
  }
 ],
 "metadata": {
  "kernelspec": {
   "display_name": "venv",
   "language": "python",
   "name": "python3"
  },
  "language_info": {
   "codemirror_mode": {
    "name": "ipython",
    "version": 3
   },
   "file_extension": ".py",
   "mimetype": "text/x-python",
   "name": "python",
   "nbconvert_exporter": "python",
   "pygments_lexer": "ipython3",
   "version": "3.11.4"
  }
 },
 "nbformat": 4,
 "nbformat_minor": 2
}
