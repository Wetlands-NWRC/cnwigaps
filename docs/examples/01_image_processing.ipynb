{
 "cells": [
  {
   "cell_type": "code",
   "execution_count": 1,
   "metadata": {},
   "outputs": [],
   "source": [
    "import ee\n",
    "\n",
    "ee.Initialize()"
   ]
  },
  {
   "cell_type": "code",
   "execution_count": 2,
   "metadata": {},
   "outputs": [],
   "source": [
    "ROI = ee.Geometry.Point([-77.2214, 44.0434])"
   ]
  },
  {
   "cell_type": "code",
   "execution_count": 3,
   "metadata": {},
   "outputs": [
    {
     "data": {
      "text/plain": [
       "['B1',\n",
       " 'B2',\n",
       " 'B3',\n",
       " 'B4',\n",
       " 'B5',\n",
       " 'B6',\n",
       " 'B7',\n",
       " 'B8',\n",
       " 'B8A',\n",
       " 'B9',\n",
       " 'B10',\n",
       " 'B11',\n",
       " 'B12',\n",
       " 'QA10',\n",
       " 'QA20',\n",
       " 'QA60',\n",
       " 'NDVI',\n",
       " 'SAVI',\n",
       " 'brightness',\n",
       " 'greenness',\n",
       " 'wetness']"
      ]
     },
     "execution_count": 3,
     "metadata": {},
     "output_type": "execute_result"
    }
   ],
   "source": [
    "from cnwigaps.rsdproc import RSDProcessor\n",
    "\n",
    "s2 = RSDProcessor(\n",
    "    dataset=\"COPERNICUS/S2_HARMONIZED\",\n",
    "    region=ROI,\n",
    "    start_date='2019-06-01',\n",
    "    end_date='2019-09-01',\n",
    ").process()\n",
    "\n",
    "s2.compute_ndvi('B8', 'B4')\n",
    "s2.compute_savi('B8', 'B4')\n",
    "s2.compute_tasseled_cap('B2', 'B3', 'B4', 'B8', 'B11', 'B12')\n",
    "s2.rsd.first().bandNames().getInfo()\n",
    "\n",
    "\n"
   ]
  },
  {
   "cell_type": "code",
   "execution_count": 4,
   "metadata": {},
   "outputs": [
    {
     "data": {
      "text/plain": [
       "['B2',\n",
       " 'B3',\n",
       " 'B4',\n",
       " 'B5',\n",
       " 'B6',\n",
       " 'B8',\n",
       " 'B8A',\n",
       " 'B11',\n",
       " 'B12',\n",
       " 'NDVI',\n",
       " 'SAVI',\n",
       " 'brightness',\n",
       " 'greenness',\n",
       " 'wetness']"
      ]
     },
     "execution_count": 4,
     "metadata": {},
     "output_type": "execute_result"
    }
   ],
   "source": [
    "from cnwigaps.rsdproc import S2Proc\n",
    "\n",
    "s2_proc = S2Proc(\n",
    "    region=ROI,\n",
    "    start_date='2019-06-01',\n",
    "    end_date='2019-09-01',\n",
    ").process()\n",
    "\n",
    "s2_proc.rsd.first().bandNames().getInfo()"
   ]
  },
  {
   "cell_type": "code",
   "execution_count": 5,
   "metadata": {},
   "outputs": [
    {
     "data": {
      "text/plain": [
       "['VV', 'VH', 'VV_VH']"
      ]
     },
     "execution_count": 5,
     "metadata": {},
     "output_type": "execute_result"
    }
   ],
   "source": [
    "from cnwigaps.rsdproc import S1Proc\n",
    "\n",
    "s1_proc = S1Proc(\n",
    "    region=ROI,\n",
    "    start_date='2019-06-01',\n",
    "    end_date='2019-09-01',\n",
    ").process()\n",
    "\n",
    "s1_proc.rsd.first().bandNames().getInfo()"
   ]
  },
  {
   "cell_type": "code",
   "execution_count": 6,
   "metadata": {},
   "outputs": [
    {
     "data": {
      "text/plain": [
       "['HH', 'HV', 'HH_HV']"
      ]
     },
     "execution_count": 6,
     "metadata": {},
     "output_type": "execute_result"
    }
   ],
   "source": [
    "from cnwigaps.rsdproc import ALOSProc\n",
    "\n",
    "al_proc = ALOSProc(\n",
    "    region=ROI,\n",
    "    start_date='2019',\n",
    "    end_date='2020',\n",
    ").process()\n",
    "\n",
    "al_proc.rsd.first().bandNames().getInfo()"
   ]
  },
  {
   "cell_type": "code",
   "execution_count": 7,
   "metadata": {},
   "outputs": [
    {
     "data": {
      "text/plain": [
       "['elevation', 'slope']"
      ]
     },
     "execution_count": 7,
     "metadata": {},
     "output_type": "execute_result"
    }
   ],
   "source": [
    "from cnwigaps.rsdproc import DEMProc\n",
    "\n",
    "dem_proc = DEMProc().process()\n",
    "dem_proc.bandNames().getInfo()"
   ]
  },
  {
   "cell_type": "code",
   "execution_count": 8,
   "metadata": {},
   "outputs": [
    {
     "data": {
      "text/plain": [
       "['VV', 'VH', 'VV_VH']"
      ]
     },
     "execution_count": 8,
     "metadata": {},
     "output_type": "execute_result"
    }
   ],
   "source": [
    "from cnwigaps.rsdproc import ProcessingFactory\n",
    "\n",
    "proc_fact = ProcessingFactory()\n",
    "s1 = proc_fact.process_datasets(level=1, region=ROI)\n",
    "s1.bandNames().getInfo()"
   ]
  },
  {
   "cell_type": "code",
   "execution_count": 9,
   "metadata": {},
   "outputs": [
    {
     "data": {
      "text/plain": [
       "['B2',\n",
       " 'B3',\n",
       " 'B4',\n",
       " 'B5',\n",
       " 'B6',\n",
       " 'B8',\n",
       " 'B8A',\n",
       " 'B11',\n",
       " 'B12',\n",
       " 'NDVI',\n",
       " 'SAVI',\n",
       " 'brightness',\n",
       " 'greenness',\n",
       " 'wetness']"
      ]
     },
     "execution_count": 9,
     "metadata": {},
     "output_type": "execute_result"
    }
   ],
   "source": [
    "s2 = proc_fact.process_datasets(level=2, region=ROI)\n",
    "s2.bandNames().getInfo()"
   ]
  },
  {
   "cell_type": "code",
   "execution_count": 10,
   "metadata": {},
   "outputs": [
    {
     "data": {
      "text/plain": [
       "['HH', 'HV', 'HH_HV']"
      ]
     },
     "execution_count": 10,
     "metadata": {},
     "output_type": "execute_result"
    }
   ],
   "source": [
    "alos = proc_fact.process_datasets(level=3, region=ROI)\n",
    "alos.bandNames().getInfo()"
   ]
  },
  {
   "cell_type": "code",
   "execution_count": null,
   "metadata": {},
   "outputs": [],
   "source": []
  }
 ],
 "metadata": {
  "kernelspec": {
   "display_name": "venv",
   "language": "python",
   "name": "python3"
  },
  "language_info": {
   "codemirror_mode": {
    "name": "ipython",
    "version": 3
   },
   "file_extension": ".py",
   "mimetype": "text/x-python",
   "name": "python",
   "nbconvert_exporter": "python",
   "pygments_lexer": "ipython3",
   "version": "3.11.4"
  }
 },
 "nbformat": 4,
 "nbformat_minor": 2
}
