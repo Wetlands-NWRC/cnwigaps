{
 "cells": [
  {
   "cell_type": "code",
   "execution_count": 1,
   "metadata": {},
   "outputs": [],
   "source": [
    "import os\n",
    "from pathlib import Path\n",
    "\n",
    "import pandas as pd"
   ]
  },
  {
   "cell_type": "code",
   "execution_count": null,
   "metadata": {},
   "outputs": [],
   "source": [
    "from shutil import copytree\n",
    "\n",
    "class Ingestor:\n",
    "    EXCLUDE = [\"Plots\", \"RELABELED\", \"data\"]\n",
    "    \n",
    "    def __init__(self, root):\n",
    "        self.root = Path(root)\n",
    "    \n",
    "    def ingest(self, prefix, output):\n",
    "        dest = []\n",
    "        for x in root.iterdir():\n",
    "            data = {}\n",
    "            if x.name.startswith(prefix) and x.name not in self.EXCLUDE:\n",
    "                for y in x.iterdir():\n",
    "                    # this gets the aoi data directory\n",
    "                    if y.name == \"data\":\n",
    "                        # this gets the region id data directory\n",
    "                        for z in y.iterdir():\n",
    "                            if z.is_dir():\n",
    "                                # this gets the data files\n",
    "                                aoi_dest = output / Path(x.name) / Path(z.name)\n",
    "                                dest.append(aoi_dest)\n",
    "                                print(\"Copying {} to {}\".format(z, output / Path(x.name) / Path(z.name)))\n",
    "                                copytree(z, output / Path(x.name) / Path(z.name), dirs_exist_ok=True)\n",
    "\n"
   ]
  },
  {
   "cell_type": "code",
   "execution_count": 2,
   "metadata": {},
   "outputs": [
    {
     "name": "stderr",
     "output_type": "stream",
     "text": [
      "/home/rhamilton/code/cnwigaps/cnwigaps/dataproc.py:80: UserWarning: This pattern is interpreted as a regular expression, and has match groups. To actually get the groups, use str.extract.\n",
      "  manifest = manifest[manifest[\"file_path\"].astype(str).str.contains(r\"(\\.shp)\")]\n"
     ]
    }
   ],
   "source": [
    "from pathlib import Path\n",
    "from cnwigaps.dataproc import DataManifest\n",
    "\n",
    "dm = DataManifest(\n",
    "    root=Path(\"/home/rhamilton/code/cnwigaps/test_data/aoi_data\"),\n",
    ")\n",
    "\n"
   ]
  },
  {
   "cell_type": "code",
   "execution_count": 3,
   "metadata": {},
   "outputs": [],
   "source": [
    "from cnwigaps.dataproc import process_data_manifest\n",
    "\n",
    "procd_data = process_data_manifest(\n",
    "    manifest=dm\n",
    ")"
   ]
  },
  {
   "cell_type": "code",
   "execution_count": 4,
   "metadata": {},
   "outputs": [
    {
     "data": {
      "text/plain": [
       "{23: {'t':       class_name                    geometry  type  ECOZONE_ID\n",
       "  0              1  POINT (-62.86684 45.66586)     1           7\n",
       "  1              1  POINT (-61.57291 45.62252)     1           7\n",
       "  2              1  POINT (-64.92809 44.29551)     1           7\n",
       "  3              1  POINT (-64.86751 45.03527)     1           7\n",
       "  4              1  POINT (-65.77711 43.72562)     1           7\n",
       "  ...          ...                         ...   ...         ...\n",
       "  9995           8  POINT (-64.25786 45.93457)     1           7\n",
       "  9996           8  POINT (-64.36469 45.90889)     1           7\n",
       "  9997           8  POINT (-64.13781 45.00178)     1           7\n",
       "  9998           8  POINT (-65.59576 44.39379)     1           7\n",
       "  9999           8  POINT (-60.59656 45.64711)     1           7\n",
       "  \n",
       "  [10000 rows x 4 columns],\n",
       "  'r':                                                      geometry  ECOREGION_  \\\n",
       "  ECOZONE_ID                                                                  \n",
       "  7           POLYGON ((-59.65043 46.18135, -59.64508 46.143...         122   \n",
       "  \n",
       "              ECOPROVINC         ECOREGION1                   ECOREGIO_1  \\\n",
       "  ECOZONE_ID                                                               \n",
       "  7                  7.2  Maritime Lowlands  Basses terres des Maritimes   \n",
       "  \n",
       "                 Shape_Leng    Shape_Area  type  \n",
       "  ECOZONE_ID                                     \n",
       "  7           633621.220613  7.452965e+09     3  }}"
      ]
     },
     "execution_count": 4,
     "metadata": {},
     "output_type": "execute_result"
    }
   ],
   "source": [
    "procd_data"
   ]
  },
  {
   "cell_type": "code",
   "execution_count": null,
   "metadata": {},
   "outputs": [],
   "source": []
  }
 ],
 "metadata": {
  "kernelspec": {
   "display_name": "venv",
   "language": "python",
   "name": "python3"
  },
  "language_info": {
   "codemirror_mode": {
    "name": "ipython",
    "version": 3
   },
   "file_extension": ".py",
   "mimetype": "text/x-python",
   "name": "python",
   "nbconvert_exporter": "python",
   "pygments_lexer": "ipython3",
   "version": "3.11.4"
  }
 },
 "nbformat": 4,
 "nbformat_minor": 2
}
