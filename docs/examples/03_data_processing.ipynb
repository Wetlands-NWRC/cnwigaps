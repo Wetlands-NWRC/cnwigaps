{
 "cells": [
  {
   "cell_type": "code",
   "execution_count": 1,
   "metadata": {},
   "outputs": [],
   "source": [
    "from pathlib import Path\n",
    "\n",
    "import pandas as pd"
   ]
  },
  {
   "cell_type": "code",
   "execution_count": 15,
   "metadata": {},
   "outputs": [],
   "source": [
    "DATA_DIR = Path('/mnt/y/Wetlands/CNWI/working/cnwi-pipeline/priority-areas/')"
   ]
  },
  {
   "cell_type": "code",
   "execution_count": 16,
   "metadata": {},
   "outputs": [
    {
     "ename": "FileNotFoundError",
     "evalue": "[Errno 2] No such file or directory: 'mnt/y/Wetlands/CNWI/working/cnwi-pipeline/priority-areas'",
     "output_type": "error",
     "traceback": [
      "\u001b[0;31m---------------------------------------------------------------------------\u001b[0m",
      "\u001b[0;31mFileNotFoundError\u001b[0m                         Traceback (most recent call last)",
      "Cell \u001b[0;32mIn[16], line 4\u001b[0m\n\u001b[1;32m      1\u001b[0m contents \u001b[38;5;241m=\u001b[39m DATA_DIR\u001b[38;5;241m.\u001b[39miterdir()\n\u001b[1;32m      3\u001b[0m \u001b[38;5;66;03m# Filter for directories using is_dir()\u001b[39;00m\n\u001b[0;32m----> 4\u001b[0m directories \u001b[38;5;241m=\u001b[39m \u001b[43m[\u001b[49m\u001b[43mentry\u001b[49m\u001b[43m \u001b[49m\u001b[38;5;28;43;01mfor\u001b[39;49;00m\u001b[43m \u001b[49m\u001b[43mentry\u001b[49m\u001b[43m \u001b[49m\u001b[38;5;129;43;01min\u001b[39;49;00m\u001b[43m \u001b[49m\u001b[43mcontents\u001b[49m\u001b[43m \u001b[49m\u001b[38;5;28;43;01mif\u001b[39;49;00m\u001b[43m \u001b[49m\u001b[43mentry\u001b[49m\u001b[38;5;241;43m.\u001b[39;49m\u001b[43mis_dir\u001b[49m\u001b[43m(\u001b[49m\u001b[43m)\u001b[49m\u001b[43m]\u001b[49m\n\u001b[1;32m      6\u001b[0m \u001b[38;5;66;03m# Print the names of the directories\u001b[39;00m\n\u001b[1;32m      7\u001b[0m \u001b[38;5;28;01mfor\u001b[39;00m directory \u001b[38;5;129;01min\u001b[39;00m directories:\n",
      "Cell \u001b[0;32mIn[16], line 4\u001b[0m, in \u001b[0;36m<listcomp>\u001b[0;34m(.0)\u001b[0m\n\u001b[1;32m      1\u001b[0m contents \u001b[38;5;241m=\u001b[39m DATA_DIR\u001b[38;5;241m.\u001b[39miterdir()\n\u001b[1;32m      3\u001b[0m \u001b[38;5;66;03m# Filter for directories using is_dir()\u001b[39;00m\n\u001b[0;32m----> 4\u001b[0m directories \u001b[38;5;241m=\u001b[39m \u001b[43m[\u001b[49m\u001b[43mentry\u001b[49m\u001b[43m \u001b[49m\u001b[38;5;28;43;01mfor\u001b[39;49;00m\u001b[43m \u001b[49m\u001b[43mentry\u001b[49m\u001b[43m \u001b[49m\u001b[38;5;129;43;01min\u001b[39;49;00m\u001b[43m \u001b[49m\u001b[43mcontents\u001b[49m\u001b[43m \u001b[49m\u001b[38;5;28;43;01mif\u001b[39;49;00m\u001b[43m \u001b[49m\u001b[43mentry\u001b[49m\u001b[38;5;241;43m.\u001b[39;49m\u001b[43mis_dir\u001b[49m\u001b[43m(\u001b[49m\u001b[43m)\u001b[49m\u001b[43m]\u001b[49m\n\u001b[1;32m      6\u001b[0m \u001b[38;5;66;03m# Print the names of the directories\u001b[39;00m\n\u001b[1;32m      7\u001b[0m \u001b[38;5;28;01mfor\u001b[39;00m directory \u001b[38;5;129;01min\u001b[39;00m directories:\n",
      "File \u001b[0;32m~/miniconda3/lib/python3.11/pathlib.py:931\u001b[0m, in \u001b[0;36mPath.iterdir\u001b[0;34m(self)\u001b[0m\n\u001b[1;32m    927\u001b[0m \u001b[38;5;28;01mdef\u001b[39;00m \u001b[38;5;21miterdir\u001b[39m(\u001b[38;5;28mself\u001b[39m):\n\u001b[1;32m    928\u001b[0m \u001b[38;5;250m    \u001b[39m\u001b[38;5;124;03m\"\"\"Iterate over the files in this directory.  Does not yield any\u001b[39;00m\n\u001b[1;32m    929\u001b[0m \u001b[38;5;124;03m    result for the special paths '.' and '..'.\u001b[39;00m\n\u001b[1;32m    930\u001b[0m \u001b[38;5;124;03m    \"\"\"\u001b[39;00m\n\u001b[0;32m--> 931\u001b[0m     \u001b[38;5;28;01mfor\u001b[39;00m name \u001b[38;5;129;01min\u001b[39;00m \u001b[43mos\u001b[49m\u001b[38;5;241;43m.\u001b[39;49m\u001b[43mlistdir\u001b[49m\u001b[43m(\u001b[49m\u001b[38;5;28;43mself\u001b[39;49m\u001b[43m)\u001b[49m:\n\u001b[1;32m    932\u001b[0m         \u001b[38;5;28;01myield\u001b[39;00m \u001b[38;5;28mself\u001b[39m\u001b[38;5;241m.\u001b[39m_make_child_relpath(name)\n",
      "\u001b[0;31mFileNotFoundError\u001b[0m: [Errno 2] No such file or directory: 'mnt/y/Wetlands/CNWI/working/cnwi-pipeline/priority-areas'"
     ]
    }
   ],
   "source": [
    "contents = DATA_DIR.iterdir()\n",
    "\n",
    "# Filter for directories using is_dir()\n",
    "directories = [entry for entry in contents if entry.is_dir()]\n",
    "\n",
    "# Print the names of the directories\n",
    "for directory in directories:\n",
    "    print(directory)"
   ]
  },
  {
   "cell_type": "code",
   "execution_count": null,
   "metadata": {},
   "outputs": [],
   "source": [
    "from shutil import copytree\n",
    "\n",
    "class Ingestor:\n",
    "    EXCLUDE = [\"Plots\", \"RELABELED\", \"data\"]\n",
    "    \n",
    "    def __init__(self, root):\n",
    "        self.root = Path(root)\n",
    "    \n",
    "    def ingest(self, prefix, output):\n",
    "        dest = []\n",
    "        for x in root.iterdir():\n",
    "            data = {}\n",
    "            if x.name.startswith(prefix) and x.name not in self.EXCLUDE:\n",
    "                for y in x.iterdir():\n",
    "                    # this gets the aoi data directory\n",
    "                    if y.name == \"data\":\n",
    "                        # this gets the region id data directory\n",
    "                        for z in y.iterdir():\n",
    "                            if z.is_dir():\n",
    "                                # this gets the data files\n",
    "                                aoi_dest = output / Path(x.name) / Path(z.name)\n",
    "                                dest.append(aoi_dest)\n",
    "                                print(\"Copying {} to {}\".format(z, output / Path(x.name) / Path(z.name)))\n",
    "                                copytree(z, output / Path(x.name) / Path(z.name), dirs_exist_ok=True)\n",
    "\n"
   ]
  },
  {
   "cell_type": "code",
   "execution_count": 2,
   "metadata": {},
   "outputs": [
    {
     "name": "stderr",
     "output_type": "stream",
     "text": [
      "/home/rhamilton/code/cnwigaps/cnwigaps/dataproc.py:80: UserWarning: This pattern is interpreted as a regular expression, and has match groups. To actually get the groups, use str.extract.\n",
      "  manifest = manifest[manifest[\"file_path\"].astype(str).str.contains(r\"(\\.shp)\")]\n"
     ]
    }
   ],
   "source": [
    "from pathlib import Path\n",
    "from cnwigaps.datautils import DataManifest\n",
    "\n",
    "dm = DataManifest(\n",
    "    root=Path(\"/home/rhamilton/code/cnwigaps/test_data/aoi_data\"),\n",
    ")\n",
    "\n"
   ]
  },
  {
   "cell_type": "code",
   "execution_count": 3,
   "metadata": {},
   "outputs": [],
   "source": [
    "from cnwigaps.datautils import process_data_manifest\n",
    "\n",
    "procd_data = process_data_manifest(\n",
    "    manifest=dm\n",
    ")"
   ]
  },
  {
   "cell_type": "code",
   "execution_count": 4,
   "metadata": {},
   "outputs": [
    {
     "data": {
      "text/plain": [
       "{23: {'t':       class_name                    geometry  type  ECOZONE_ID\n",
       "  0              1  POINT (-62.86684 45.66586)     1           7\n",
       "  1              1  POINT (-61.57291 45.62252)     1           7\n",
       "  2              1  POINT (-64.92809 44.29551)     1           7\n",
       "  3              1  POINT (-64.86751 45.03527)     1           7\n",
       "  4              1  POINT (-65.77711 43.72562)     1           7\n",
       "  ...          ...                         ...   ...         ...\n",
       "  9995           8  POINT (-64.25786 45.93457)     1           7\n",
       "  9996           8  POINT (-64.36469 45.90889)     1           7\n",
       "  9997           8  POINT (-64.13781 45.00178)     1           7\n",
       "  9998           8  POINT (-65.59576 44.39379)     1           7\n",
       "  9999           8  POINT (-60.59656 45.64711)     1           7\n",
       "  \n",
       "  [10000 rows x 4 columns],\n",
       "  'r':                                                      geometry  ECOREGION_  \\\n",
       "  ECOZONE_ID                                                                  \n",
       "  7           POLYGON ((-59.65043 46.18135, -59.64508 46.143...         122   \n",
       "  \n",
       "              ECOPROVINC         ECOREGION1                   ECOREGIO_1  \\\n",
       "  ECOZONE_ID                                                               \n",
       "  7                  7.2  Maritime Lowlands  Basses terres des Maritimes   \n",
       "  \n",
       "                 Shape_Leng    Shape_Area  type  \n",
       "  ECOZONE_ID                                     \n",
       "  7           633621.220613  7.452965e+09     3  }}"
      ]
     },
     "execution_count": 4,
     "metadata": {},
     "output_type": "execute_result"
    }
   ],
   "source": [
    "procd_data"
   ]
  },
  {
   "cell_type": "code",
   "execution_count": 18,
   "metadata": {},
   "outputs": [
    {
     "name": "stdout",
     "output_type": "stream",
     "text": [
      "ls: cannot access 'mnt/d': No such file or directory\n"
     ]
    }
   ],
   "source": [
    "! ls mnt/d \n"
   ]
  },
  {
   "cell_type": "code",
   "execution_count": null,
   "metadata": {},
   "outputs": [],
   "source": []
  }
 ],
 "metadata": {
  "kernelspec": {
   "display_name": "venv",
   "language": "python",
   "name": "python3"
  },
  "language_info": {
   "codemirror_mode": {
    "name": "ipython",
    "version": 3
   },
   "file_extension": ".py",
   "mimetype": "text/x-python",
   "name": "python",
   "nbconvert_exporter": "python",
   "pygments_lexer": "ipython3",
   "version": "3.11.4"
  }
 },
 "nbformat": 4,
 "nbformat_minor": 2
}
