{
    "cells": [
        {
            "cell_type": "code",
            "execution_count": 1,
            "metadata": {},
            "outputs": [],
            "source": [
                "from pathlib import Path\n",
                "\n",
                "import pandas as pd"
            ]
        },
        {
            "cell_type": "code",
            "execution_count": 15,
            "metadata": {},
            "outputs": [],
            "source": [
                "DATA_DIR = Path('/mnt/y/Wetlands/CNWI/working/cnwi-pipeline/priority-areas/')"
            ]
        },
        {
            "cell_type": "code",
            "execution_count": 16,
            "metadata": {},
            "outputs": [
                {
                    "ename": "FileNotFoundError",
                    "evalue": "[Errno 2] No such file or directory: 'mnt/y/Wetlands/CNWI/working/cnwi-pipeline/priority-areas'",
                    "output_type": "error",
                    "traceback": [
                        "\u001b[0;31m---------------------------------------------------------------------------\u001b[0m",
                        "\u001b[0;31mFileNotFoundError\u001b[0m                         Traceback (most recent call last)",
                        "Cell \u001b[0;32mIn[16], line 4\u001b[0m\n\u001b[1;32m      1\u001b[0m contents \u001b[38;5;241m=\u001b[39m DATA_DIR\u001b[38;5;241m.\u001b[39miterdir()\n\u001b[1;32m      3\u001b[0m \u001b[38;5;66;03m# Filter for directories using is_dir()\u001b[39;00m\n\u001b[0;32m----> 4\u001b[0m directories \u001b[38;5;241m=\u001b[39m \u001b[43m[\u001b[49m\u001b[43mentry\u001b[49m\u001b[43m \u001b[49m\u001b[38;5;28;43;01mfor\u001b[39;49;00m\u001b[43m \u001b[49m\u001b[43mentry\u001b[49m\u001b[43m \u001b[49m\u001b[38;5;129;43;01min\u001b[39;49;00m\u001b[43m \u001b[49m\u001b[43mcontents\u001b[49m\u001b[43m \u001b[49m\u001b[38;5;28;43;01mif\u001b[39;49;00m\u001b[43m \u001b[49m\u001b[43mentry\u001b[49m\u001b[38;5;241;43m.\u001b[39;49m\u001b[43mis_dir\u001b[49m\u001b[43m(\u001b[49m\u001b[43m)\u001b[49m\u001b[43m]\u001b[49m\n\u001b[1;32m      6\u001b[0m \u001b[38;5;66;03m# Print the names of the directories\u001b[39;00m\n\u001b[1;32m      7\u001b[0m \u001b[38;5;28;01mfor\u001b[39;00m directory \u001b[38;5;129;01min\u001b[39;00m directories:\n",
                        "Cell \u001b[0;32mIn[16], line 4\u001b[0m, in \u001b[0;36m<listcomp>\u001b[0;34m(.0)\u001b[0m\n\u001b[1;32m      1\u001b[0m contents \u001b[38;5;241m=\u001b[39m DATA_DIR\u001b[38;5;241m.\u001b[39miterdir()\n\u001b[1;32m      3\u001b[0m \u001b[38;5;66;03m# Filter for directories using is_dir()\u001b[39;00m\n\u001b[0;32m----> 4\u001b[0m directories \u001b[38;5;241m=\u001b[39m \u001b[43m[\u001b[49m\u001b[43mentry\u001b[49m\u001b[43m \u001b[49m\u001b[38;5;28;43;01mfor\u001b[39;49;00m\u001b[43m \u001b[49m\u001b[43mentry\u001b[49m\u001b[43m \u001b[49m\u001b[38;5;129;43;01min\u001b[39;49;00m\u001b[43m \u001b[49m\u001b[43mcontents\u001b[49m\u001b[43m \u001b[49m\u001b[38;5;28;43;01mif\u001b[39;49;00m\u001b[43m \u001b[49m\u001b[43mentry\u001b[49m\u001b[38;5;241;43m.\u001b[39;49m\u001b[43mis_dir\u001b[49m\u001b[43m(\u001b[49m\u001b[43m)\u001b[49m\u001b[43m]\u001b[49m\n\u001b[1;32m      6\u001b[0m \u001b[38;5;66;03m# Print the names of the directories\u001b[39;00m\n\u001b[1;32m      7\u001b[0m \u001b[38;5;28;01mfor\u001b[39;00m directory \u001b[38;5;129;01min\u001b[39;00m directories:\n",
                        "File \u001b[0;32m~/miniconda3/lib/python3.11/pathlib.py:931\u001b[0m, in \u001b[0;36mPath.iterdir\u001b[0;34m(self)\u001b[0m\n\u001b[1;32m    927\u001b[0m \u001b[38;5;28;01mdef\u001b[39;00m \u001b[38;5;21miterdir\u001b[39m(\u001b[38;5;28mself\u001b[39m):\n\u001b[1;32m    928\u001b[0m \u001b[38;5;250m    \u001b[39m\u001b[38;5;124;03m\"\"\"Iterate over the files in this directory.  Does not yield any\u001b[39;00m\n\u001b[1;32m    929\u001b[0m \u001b[38;5;124;03m    result for the special paths '.' and '..'.\u001b[39;00m\n\u001b[1;32m    930\u001b[0m \u001b[38;5;124;03m    \"\"\"\u001b[39;00m\n\u001b[0;32m--> 931\u001b[0m     \u001b[38;5;28;01mfor\u001b[39;00m name \u001b[38;5;129;01min\u001b[39;00m \u001b[43mos\u001b[49m\u001b[38;5;241;43m.\u001b[39;49m\u001b[43mlistdir\u001b[49m\u001b[43m(\u001b[49m\u001b[38;5;28;43mself\u001b[39;49m\u001b[43m)\u001b[49m:\n\u001b[1;32m    932\u001b[0m         \u001b[38;5;28;01myield\u001b[39;00m \u001b[38;5;28mself\u001b[39m\u001b[38;5;241m.\u001b[39m_make_child_relpath(name)\n",
                        "\u001b[0;31mFileNotFoundError\u001b[0m: [Errno 2] No such file or directory: 'mnt/y/Wetlands/CNWI/working/cnwi-pipeline/priority-areas'"
                    ]
                }
            ],
            "source": [
                "contents = DATA_DIR.iterdir()\n",
                "\n",
                "# Filter for directories using is_dir()\n",
                "directories = [entry for entry in contents if entry.is_dir()]\n",
                "\n",
                "# Print the names of the directories\n",
                "for directory in directories:\n",
                "    print(directory)"
            ]
        },
        {
            "cell_type": "code",
            "execution_count": null,
            "metadata": {},
            "outputs": [],
            "source": [
                "from shutil import copytree\n",
                "\n",
                "class Ingestor:\n",
                "    EXCLUDE = [\"Plots\", \"RELABELED\", \"data\"]\n",
                "    \n",
                "    def __init__(self, root):\n",
                "        self.root = Path(root)\n",
                "    \n",
                "    def ingest(self, prefix, output):\n",
                "        dest = []\n",
                "        for x in root.iterdir():\n",
                "            data = {}\n",
                "            if x.name.startswith(prefix) and x.name not in self.EXCLUDE:\n",
                "                for y in x.iterdir():\n",
                "                    # this gets the aoi data directory\n",
                "                    if y.name == \"data\":\n",
                "                        # this gets the region id data directory\n",
                "                        for z in y.iterdir():\n",
                "                            if z.is_dir():\n",
                "                                # this gets the data files\n",
                "                                aoi_dest = output / Path(x.name) / Path(z.name)\n",
                "                                dest.append(aoi_dest)\n",
                "                                print(\"Copying {} to {}\".format(z, output / Path(x.name) / Path(z.name)))\n",
                "                                copytree(z, output / Path(x.name) / Path(z.name), dirs_exist_ok=True)\n",
                "\n"
            ]
        },
        {
            "cell_type": "code",
            "execution_count": 2,
            "metadata": {},
            "outputs": [],
            "source": [
                "data = Path(\"../../test_data/aoi_NS/data\")\n"
            ]
        },
        {
            "cell_type": "code",
            "execution_count": 3,
            "metadata": {},
            "outputs": [
                {
                    "name": "stderr",
                    "output_type": "stream",
                    "text": [
                        "/home/rhamilton/code/cnwigaps/cnwigaps/dataproc.py:150: UserWarning: This pattern is interpreted as a regular expression, and has match groups. To actually get the groups, use str.extract.\n",
                        "  manifest = manifest[manifest[\"file_path\"].astype(str).str.contains(r\"(\\.shp)\")]\n"
                    ]
                }
            ],
            "source": [
                "from pathlib import Path\n",
                "from cnwigaps.datautils import DataManifest\n",
                "\n",
                "dm = DataManifest(\n",
                "    root=Path(\"/home/rhamilton/code/cnwigaps/test_data/aoi_data\"),\n",
                ")\n",
                "\n"
            ]
        },
        {
            "cell_type": "code",
            "execution_count": 3,
            "metadata": {},
            "outputs": [],
            "source": [
                "from cnwigaps.datautils import process_data_manifest\n",
                "\n",
                "procd_data = process_data_manifest(\n",
                "    manifest=dm\n",
                ")"
            ]
        },
        {
            "cell_type": "code",
            "execution_count": 4,
            "metadata": {},
            "outputs": [
                {
                    "ename": "ValueError",
                    "evalue": "Cannot take a larger sample than population when 'replace=False'",
                    "output_type": "error",
                    "traceback": [
                        "\u001b[0;31m---------------------------------------------------------------------------\u001b[0m",
                        "\u001b[0;31mValueError\u001b[0m                                Traceback (most recent call last)",
                        "Cell \u001b[0;32mIn[4], line 1\u001b[0m\n\u001b[0;32m----> 1\u001b[0m td, rd \u001b[38;5;241m=\u001b[39m \u001b[43mprocess_data_manifest\u001b[49m\u001b[43m(\u001b[49m\u001b[43mdm\u001b[49m\u001b[43m,\u001b[49m\u001b[43m \u001b[49m\u001b[43mn_rows\u001b[49m\u001b[38;5;241;43m=\u001b[39;49m\u001b[38;5;241;43m10_000\u001b[39;49m\u001b[43m,\u001b[49m\u001b[43m \u001b[49m\u001b[43mbalance\u001b[49m\u001b[38;5;241;43m=\u001b[39;49m\u001b[38;5;28;43;01mFalse\u001b[39;49;00m\u001b[43m)\u001b[49m\n",
                        "File \u001b[0;32m~/code/cnwigaps/cnwigaps/dataproc.py:182\u001b[0m, in \u001b[0;36mprocess_data_manifest\u001b[0;34m(manifest, n_rows, balance)\u001b[0m\n\u001b[1;32m    179\u001b[0m             gdf[\u001b[38;5;124m\"\u001b[39m\u001b[38;5;124mECOZONE_ID\u001b[39m\u001b[38;5;124m\"\u001b[39m] \u001b[38;5;241m=\u001b[39m row[\u001b[38;5;124m\"\u001b[39m\u001b[38;5;124mECOZONE_ID\u001b[39m\u001b[38;5;124m\"\u001b[39m]\n\u001b[1;32m    180\u001b[0m             rdp\u001b[38;5;241m.\u001b[39madd(gdf)\n\u001b[0;32m--> 182\u001b[0m td \u001b[38;5;241m=\u001b[39m \u001b[43mtdp\u001b[49m\u001b[38;5;241;43m.\u001b[39;49m\u001b[43mprocess\u001b[49m\u001b[43m(\u001b[49m\u001b[43mn_rows\u001b[49m\u001b[38;5;241;43m=\u001b[39;49m\u001b[43mn_rows\u001b[49m\u001b[43m,\u001b[49m\u001b[43m \u001b[49m\u001b[43mbalance\u001b[49m\u001b[38;5;241;43m=\u001b[39;49m\u001b[43mbalance\u001b[49m\u001b[43m)\u001b[49m\n\u001b[1;32m    183\u001b[0m rd \u001b[38;5;241m=\u001b[39m rdp\u001b[38;5;241m.\u001b[39mprocess()\n\u001b[1;32m    185\u001b[0m \u001b[38;5;28;01mreturn\u001b[39;00m td, rd\n",
                        "File \u001b[0;32m~/code/cnwigaps/cnwigaps/dataproc.py:61\u001b[0m, in \u001b[0;36mTrainingDataProcessor.process\u001b[0;34m(self, n_rows, balance)\u001b[0m\n\u001b[1;32m     59\u001b[0m     selected \u001b[38;5;241m=\u001b[39m gdf\u001b[38;5;241m.\u001b[39mgroupby(\u001b[38;5;124m\"\u001b[39m\u001b[38;5;124mclass_name\u001b[39m\u001b[38;5;124m\"\u001b[39m)\u001b[38;5;241m.\u001b[39msample(n\u001b[38;5;241m=\u001b[39mn)\n\u001b[1;32m     60\u001b[0m \u001b[38;5;28;01melse\u001b[39;00m:\n\u001b[0;32m---> 61\u001b[0m     selected \u001b[38;5;241m=\u001b[39m \u001b[43mgdf\u001b[49m\u001b[38;5;241;43m.\u001b[39;49m\u001b[43mgroupby\u001b[49m\u001b[43m(\u001b[49m\u001b[38;5;124;43m\"\u001b[39;49m\u001b[38;5;124;43mclass_name\u001b[39;49m\u001b[38;5;124;43m\"\u001b[39;49m\u001b[43m)\u001b[49m\u001b[38;5;241;43m.\u001b[39;49m\u001b[43msample\u001b[49m\u001b[43m(\u001b[49m\u001b[43mn\u001b[49m\u001b[38;5;241;43m=\u001b[39;49m\u001b[43mn_rows\u001b[49m\u001b[43m)\u001b[49m\n\u001b[1;32m     62\u001b[0m selected \u001b[38;5;241m=\u001b[39m selected\u001b[38;5;241m.\u001b[39mreset_index(drop\u001b[38;5;241m=\u001b[39m\u001b[38;5;28;01mTrue\u001b[39;00m)\n\u001b[1;32m     63\u001b[0m \u001b[38;5;28;01mreturn\u001b[39;00m TrainingData(selected)\n",
                        "File \u001b[0;32m~/code/cnwigaps/venv/lib/python3.11/site-packages/pandas/core/groupby/groupby.py:5649\u001b[0m, in \u001b[0;36mGroupBy.sample\u001b[0;34m(self, n, frac, replace, weights, random_state)\u001b[0m\n\u001b[1;32m   5646\u001b[0m         \u001b[38;5;28;01massert\u001b[39;00m frac \u001b[38;5;129;01mis\u001b[39;00m \u001b[38;5;129;01mnot\u001b[39;00m \u001b[38;5;28;01mNone\u001b[39;00m\n\u001b[1;32m   5647\u001b[0m         sample_size \u001b[38;5;241m=\u001b[39m \u001b[38;5;28mround\u001b[39m(frac \u001b[38;5;241m*\u001b[39m group_size)\n\u001b[0;32m-> 5649\u001b[0m     grp_sample \u001b[38;5;241m=\u001b[39m \u001b[43msample\u001b[49m\u001b[38;5;241;43m.\u001b[39;49m\u001b[43msample\u001b[49m\u001b[43m(\u001b[49m\n\u001b[1;32m   5650\u001b[0m \u001b[43m        \u001b[49m\u001b[43mgroup_size\u001b[49m\u001b[43m,\u001b[49m\n\u001b[1;32m   5651\u001b[0m \u001b[43m        \u001b[49m\u001b[43msize\u001b[49m\u001b[38;5;241;43m=\u001b[39;49m\u001b[43msample_size\u001b[49m\u001b[43m,\u001b[49m\n\u001b[1;32m   5652\u001b[0m \u001b[43m        \u001b[49m\u001b[43mreplace\u001b[49m\u001b[38;5;241;43m=\u001b[39;49m\u001b[43mreplace\u001b[49m\u001b[43m,\u001b[49m\n\u001b[1;32m   5653\u001b[0m \u001b[43m        \u001b[49m\u001b[43mweights\u001b[49m\u001b[38;5;241;43m=\u001b[39;49m\u001b[38;5;28;43;01mNone\u001b[39;49;00m\u001b[43m \u001b[49m\u001b[38;5;28;43;01mif\u001b[39;49;00m\u001b[43m \u001b[49m\u001b[43mweights\u001b[49m\u001b[43m \u001b[49m\u001b[38;5;129;43;01mis\u001b[39;49;00m\u001b[43m \u001b[49m\u001b[38;5;28;43;01mNone\u001b[39;49;00m\u001b[43m \u001b[49m\u001b[38;5;28;43;01melse\u001b[39;49;00m\u001b[43m \u001b[49m\u001b[43mweights_arr\u001b[49m\u001b[43m[\u001b[49m\u001b[43mgrp_indices\u001b[49m\u001b[43m]\u001b[49m\u001b[43m,\u001b[49m\n\u001b[1;32m   5654\u001b[0m \u001b[43m        \u001b[49m\u001b[43mrandom_state\u001b[49m\u001b[38;5;241;43m=\u001b[39;49m\u001b[43mrandom_state\u001b[49m\u001b[43m,\u001b[49m\n\u001b[1;32m   5655\u001b[0m \u001b[43m    \u001b[49m\u001b[43m)\u001b[49m\n\u001b[1;32m   5656\u001b[0m     sampled_indices\u001b[38;5;241m.\u001b[39mappend(grp_indices[grp_sample])\n\u001b[1;32m   5658\u001b[0m sampled_indices \u001b[38;5;241m=\u001b[39m np\u001b[38;5;241m.\u001b[39mconcatenate(sampled_indices)\n",
                        "File \u001b[0;32m~/code/cnwigaps/venv/lib/python3.11/site-packages/pandas/core/sample.py:152\u001b[0m, in \u001b[0;36msample\u001b[0;34m(obj_len, size, replace, weights, random_state)\u001b[0m\n\u001b[1;32m    149\u001b[0m     \u001b[38;5;28;01melse\u001b[39;00m:\n\u001b[1;32m    150\u001b[0m         \u001b[38;5;28;01mraise\u001b[39;00m \u001b[38;5;167;01mValueError\u001b[39;00m(\u001b[38;5;124m\"\u001b[39m\u001b[38;5;124mInvalid weights: weights sum to zero\u001b[39m\u001b[38;5;124m\"\u001b[39m)\n\u001b[0;32m--> 152\u001b[0m \u001b[38;5;28;01mreturn\u001b[39;00m \u001b[43mrandom_state\u001b[49m\u001b[38;5;241;43m.\u001b[39;49m\u001b[43mchoice\u001b[49m\u001b[43m(\u001b[49m\u001b[43mobj_len\u001b[49m\u001b[43m,\u001b[49m\u001b[43m \u001b[49m\u001b[43msize\u001b[49m\u001b[38;5;241;43m=\u001b[39;49m\u001b[43msize\u001b[49m\u001b[43m,\u001b[49m\u001b[43m \u001b[49m\u001b[43mreplace\u001b[49m\u001b[38;5;241;43m=\u001b[39;49m\u001b[43mreplace\u001b[49m\u001b[43m,\u001b[49m\u001b[43m \u001b[49m\u001b[43mp\u001b[49m\u001b[38;5;241;43m=\u001b[39;49m\u001b[43mweights\u001b[49m\u001b[43m)\u001b[49m\u001b[38;5;241m.\u001b[39mastype(\n\u001b[1;32m    153\u001b[0m     np\u001b[38;5;241m.\u001b[39mintp, copy\u001b[38;5;241m=\u001b[39m\u001b[38;5;28;01mFalse\u001b[39;00m\n\u001b[1;32m    154\u001b[0m )\n",
                        "File \u001b[0;32mnumpy/random/mtrand.pyx:1001\u001b[0m, in \u001b[0;36mnumpy.random.mtrand.RandomState.choice\u001b[0;34m()\u001b[0m\n",
                        "\u001b[0;31mValueError\u001b[0m: Cannot take a larger sample than population when 'replace=False'"
                    ]
                }
            ],
            "source": [
                "td, rd = process_data_manifest(dm, n_rows=10_000, balance=False)"
            ]
        },
        {
            "cell_type": "code",
            "execution_count": 7,
            "metadata": {},
            "outputs": [
                {
                    "data": {
                        "text/html": [
                            "<div>\n",
                            "<style scoped>\n",
                            "    .dataframe tbody tr th:only-of-type {\n",
                            "        vertical-align: middle;\n",
                            "    }\n",
                            "\n",
                            "    .dataframe tbody tr th {\n",
                            "        vertical-align: top;\n",
                            "    }\n",
                            "\n",
                            "    .dataframe thead th {\n",
                            "        text-align: right;\n",
                            "    }\n",
                            "</style>\n",
                            "<table border=\"1\" class=\"dataframe\">\n",
                            "  <thead>\n",
                            "    <tr style=\"text-align: right;\">\n",
                            "      <th></th>\n",
                            "      <th>class_name</th>\n",
                            "      <th>geometry</th>\n",
                            "      <th>type</th>\n",
                            "      <th>ECOZONE_ID</th>\n",
                            "    </tr>\n",
                            "  </thead>\n",
                            "  <tbody>\n",
                            "    <tr>\n",
                            "      <th>0</th>\n",
                            "      <td>1</td>\n",
                            "      <td>POINT (-63.77511 44.85908)</td>\n",
                            "      <td>1</td>\n",
                            "      <td>7</td>\n",
                            "    </tr>\n",
                            "    <tr>\n",
                            "      <th>1</th>\n",
                            "      <td>1</td>\n",
                            "      <td>POINT (-60.56257 46.21821)</td>\n",
                            "      <td>1</td>\n",
                            "      <td>7</td>\n",
                            "    </tr>\n",
                            "    <tr>\n",
                            "      <th>2</th>\n",
                            "      <td>1</td>\n",
                            "      <td>POINT (-64.90983 44.97796)</td>\n",
                            "      <td>1</td>\n",
                            "      <td>7</td>\n",
                            "    </tr>\n",
                            "    <tr>\n",
                            "      <th>3</th>\n",
                            "      <td>1</td>\n",
                            "      <td>POINT (-66.12704 44.23877)</td>\n",
                            "      <td>1</td>\n",
                            "      <td>7</td>\n",
                            "    </tr>\n",
                            "    <tr>\n",
                            "      <th>4</th>\n",
                            "      <td>1</td>\n",
                            "      <td>POINT (-62.70480 45.13234)</td>\n",
                            "      <td>1</td>\n",
                            "      <td>7</td>\n",
                            "    </tr>\n",
                            "  </tbody>\n",
                            "</table>\n",
                            "</div>"
                        ],
                        "text/plain": [
                            "   class_name                    geometry  type  ECOZONE_ID\n",
                            "0           1  POINT (-63.77511 44.85908)     1           7\n",
                            "1           1  POINT (-60.56257 46.21821)     1           7\n",
                            "2           1  POINT (-64.90983 44.97796)     1           7\n",
                            "3           1  POINT (-66.12704 44.23877)     1           7\n",
                            "4           1  POINT (-62.70480 45.13234)     1           7"
                        ]
                    },
                    "execution_count": 7,
                    "metadata": {},
                    "output_type": "execute_result"
                }
            ],
            "source": [
                "td.data.head()"
            ]
        },
        {
            "cell_type": "code",
            "execution_count": 18,
            "metadata": {},
            "outputs": [
                {
                    "name": "stdout",
                    "output_type": "stream",
                    "text": [
                        "ls: cannot access 'mnt/d': No such file or directory\n"
                    ]
                }
            ],
            "source": [
                "! ls mnt/d \n"
            ]
        },
        {
            "cell_type": "code",
            "execution_count": null,
            "metadata": {},
            "outputs": [],
            "source": []
        }
    ],
    "metadata": {
        "kernelspec": {
            "display_name": "venv",
            "language": "python",
            "name": "python3"
        },
        "language_info": {
            "codemirror_mode": {
                "name": "ipython",
                "version": 3
            },
            "file_extension": ".py",
            "mimetype": "text/x-python",
            "name": "python",
            "nbconvert_exporter": "python",
            "pygments_lexer": "ipython3",
            "version": "3.11.4"
        }
    },
    "nbformat": 4,
    "nbformat_minor": 2
}